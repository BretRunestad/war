{
 "cells": [
  {
   "cell_type": "code",
   "execution_count": 1,
   "metadata": {
    "collapsed": true
   },
   "outputs": [],
   "source": [
    "import random"
   ]
  },
  {
   "cell_type": "code",
   "execution_count": 2,
   "metadata": {
    "collapsed": true
   },
   "outputs": [],
   "source": [
    "class Card:\n",
    "    \"\"\"A playing card.\n",
    "\n",
    "    Responsibilities:\n",
    "\n",
    "    * Has a rank and a suit.\n",
    "    * Cards should have readable representations\n",
    "\n",
    "    Collaborators:\n",
    "\n",
    "    * Collected into a Deck.\n",
    "    * Collected into a Hand for each player and a Hand for the dealer.\"\"\"\n",
    "\n",
    "    def __init__(self, rank, suit):\n",
    "        self.rank = rank\n",
    "        self.suit = suit\n",
    "        self.value = self.value()\n",
    "    \n",
    "    def value(self):\n",
    "        nums = ['2', '3', '4', '5', '6', '7', '8', '9', '10']\n",
    "        if nums.count(self.rank) == 1:\n",
    "            return int(self.rank)\n",
    "        if self.rank == \"J\":\n",
    "            return 11\n",
    "        if self.rank == \"Q\":\n",
    "            return 12\n",
    "        if self.rank == \"K\":\n",
    "            return 13\n",
    "        if self.rank == \"A\":\n",
    "            return 14\n",
    "\n",
    "    def __str__(self):\n",
    "        return \"{} of {}\".format(self.rank, self.suit)\n",
    "\n",
    "    def __repr__(self):\n",
    "        return self.__str__()"
   ]
  },
  {
   "cell_type": "code",
   "execution_count": 3,
   "metadata": {
    "collapsed": true
   },
   "outputs": [],
   "source": [
    "class Deck:\n",
    "    \"\"\"A set of 52 playing cards.\n",
    "\n",
    "    Responsibilities:\n",
    "    * hold a collection of cards\n",
    "    * self-generates a list of 52 cards of every variation\n",
    "    * Should be able to (re)shuffle itself\n",
    "    * should be able to report its current size\n",
    "\n",
    "    Collaborators:\n",
    "    * consists of cards\"\"\"\n",
    "\n",
    "    def __init__(self):\n",
    "        ranks = ['2',\n",
    "                 '3',\n",
    "                 '4',\n",
    "                 '5',\n",
    "                 '6',\n",
    "                 '7',\n",
    "                 '8',\n",
    "                 '9',\n",
    "                 '10',\n",
    "                 'J',\n",
    "                 'Q',\n",
    "                 'K',\n",
    "                 'A']\n",
    "        suits = ['Spades', 'Hearts', 'Diamonds', 'Clubs']\n",
    "        self.cards = [Card(rank, suit) for rank in ranks for suit in suits]\n",
    "        self.size = len(self.cards)\n",
    "\n",
    "    def draw(self):\n",
    "        return self.cards.pop()\n",
    "\n",
    "    def shuffle(self):\n",
    "        return random.shuffle(self.cards)\n",
    "\n",
    "    def __str__(self):\n",
    "        card_list = [str(card) for card in self.cards]\n",
    "        return ', '.join(card_list)\n",
    "\n",
    "    def __repr__(self):\n",
    "        return self.__str__()"
   ]
  },
  {
   "cell_type": "code",
   "execution_count": 4,
   "metadata": {
    "collapsed": false
   },
   "outputs": [],
   "source": [
    "class Hand:\n",
    "    def __init__(self):\n",
    "        self.cards = []\n",
    "        \n",
    "    def draw(self, card):\n",
    "        return self.cards.append(card)\n",
    "    \n",
    "    def size(self):\n",
    "        return len(self.cards)\n",
    "    \n",
    "    def count_aces(self):\n",
    "        num_aces = 0\n",
    "        for x in self.cards:\n",
    "            if x.rank == \"A\":\n",
    "                num_aces += 1\n",
    "        return num_aces\n",
    "    \n",
    "    def __str__(self):\n",
    "        card_list = [str(card) for card in self.cards]\n",
    "        return ', '.join(card_list)\n",
    "\n",
    "    def __repr__(self):\n",
    "        return self.__str__()"
   ]
  },
  {
   "cell_type": "code",
   "execution_count": 5,
   "metadata": {
    "collapsed": false
   },
   "outputs": [],
   "source": [
    "class Game:\n",
    "    def __init__(self):\n",
    "        self.a_hand = Hand()\n",
    "        self.b_hand = Hand()\n",
    "        self.deck = Deck()\n",
    "        self.winner = 0\n",
    "        \n",
    "    def deal(self):\n",
    "        self.deck.shuffle()\n",
    "        for x in range(52):\n",
    "            if x%2 == 0:\n",
    "                self.b_hand.cards.append(self.deck.cards[x])\n",
    "            else:\n",
    "                self.a_hand.cards.append(self.deck.cards[x])\n",
    "    \n",
    "    def rigged_deal(self):\n",
    "        self.deck.shuffle()\n",
    "        for x in range(52):\n",
    "            if x%2 == 0:\n",
    "                self.b_hand.cards.append(self.deck.cards[x])\n",
    "            else:\n",
    "                self.a_hand.cards.append(self.deck.cards[x])\n",
    "\n",
    "        def aces_to_front(hand):\n",
    "            counter = 0\n",
    "            new_list = []\n",
    "            old_list = hand.cards\n",
    "            for card in hand.cards:\n",
    "                if card.rank == \"A\":\n",
    "                    pull_card = hand.cards.pop(counter)\n",
    "                    new_list.append(pull_card)\n",
    "                    old_list = hand.cards\n",
    "                counter +=1\n",
    "            hand.cards = new_list + old_list\n",
    "            return hand.cards\n",
    "        \n",
    "        aces_to_front(self.a_hand)\n",
    "        aces_to_front(self.b_hand)\n",
    "              \n",
    "    \n",
    "    def simple_combat(self, win_hand, win_card, lose_card, purgatory):\n",
    "        win_hand.cards.extend((win_card, lose_card))\n",
    "        for x in purgatory:\n",
    "            win_hand.cards.append(x)\n",
    "             \n",
    "    def combat(self, purgatory = []):\n",
    "        a_card = self.a_hand.cards.pop(0)\n",
    "        b_card = self.b_hand.cards.pop(0)\n",
    "        \n",
    "        if a_card.value == b_card.value:\n",
    "            purgatory.extend((a_card, b_card))\n",
    "            if self.a_hand.size() < 4:\n",
    "                for x in range(self.a_hand.size()-1):\n",
    "                    purgatory.append(self.a_hand.cards.pop(0))\n",
    "                    purgatory.append(self.b_hand.cards.pop(0))\n",
    "                random.shuffle(purgatory)\n",
    "                self.combat(purgatory)\n",
    "            if self.b_hand.size() < 4:\n",
    "                for x in range(self.b_hand.size()-1):\n",
    "                    purgatory.append(self.a_hand.cards.pop(0))\n",
    "                    purgatory.append(self.b_hand.cards.pop(0))\n",
    "                random.shuffle(purgatory)\n",
    "                self.combat(purgatory)\n",
    "            else:\n",
    "                for x in range(3):\n",
    "                    purgatory.append(self.a_hand.cards.pop(0))\n",
    "                    purgatory.append(self.b_hand.cards.pop(0))\n",
    "                random.shuffle(purgatory)\n",
    "                self.combat(purgatory)\n",
    "               \n",
    "        if a_card.value > b_card.value:\n",
    "            self.simple_combat(self.a_hand, a_card, b_card, purgatory)\n",
    "            \n",
    "        if b_card.value > a_card.value:\n",
    "            self.simple_combat(self.b_hand, b_card, a_card, purgatory)\n",
    "            \n",
    "    def play_game(self):\n",
    "        self.deal()\n",
    "        \n",
    "        def iterate(a_hand, b_hand):\n",
    "            if a_hand.size() == 0:\n",
    "                self.winner = b_hand\n",
    "            if b_hand.size() == 0:\n",
    "                self.winner == a_hand\n",
    "            else:\n",
    "                self.combat()\n",
    "                iterate(a_hand, b_hand)\n",
    "                print(self.winner)\n",
    "        iterate(self.a_hand, self.b_hand)"
   ]
  },
  {
   "cell_type": "code",
   "execution_count": 6,
   "metadata": {
    "collapsed": false
   },
   "outputs": [
    {
     "name": "stdout",
     "output_type": "stream",
     "text": [
      "[2 of Diamonds, 10 of Spades, 5 of Spades, 6 of Clubs, 6 of Diamonds, 9 of Hearts, 9 of Diamonds, 10 of Diamonds, 9 of Spades, 4 of Hearts, 4 of Clubs, 8 of Hearts, 6 of Spades, 4 of Spades, 7 of Diamonds, 4 of Diamonds, 6 of Hearts, J of Spades, 7 of Spades, 7 of Hearts, K of Diamonds, K of Hearts, A of Diamonds, Q of Hearts, 2 of Spades, K of Spades]\n",
      "[J of Clubs, J of Diamonds, 5 of Clubs, 8 of Diamonds, 3 of Diamonds, A of Hearts, Q of Diamonds, 3 of Hearts, 3 of Clubs, A of Spades, Q of Clubs, 10 of Hearts, Q of Spades, 8 of Clubs, 10 of Clubs, 5 of Hearts, 5 of Diamonds, A of Clubs, K of Clubs, 7 of Clubs, 9 of Clubs, 2 of Hearts, 2 of Clubs, 8 of Spades, J of Hearts, 3 of Spades]\n"
     ]
    }
   ],
   "source": [
    "game = Game()\n",
    "game.deal()\n",
    "print(game.a_hand.cards)\n",
    "print(game.b_hand.cards)"
   ]
  },
  {
   "cell_type": "code",
   "execution_count": 12,
   "metadata": {
    "collapsed": false
   },
   "outputs": [
    {
     "name": "stdout",
     "output_type": "stream",
     "text": [
      "37\n",
      "31\n"
     ]
    }
   ],
   "source": [
    "game.combat()\n",
    "print(game.a_hand.size())\n",
    "print(game.b_hand.size())"
   ]
  },
  {
   "cell_type": "code",
   "execution_count": 8,
   "metadata": {
    "collapsed": false
   },
   "outputs": [
    {
     "name": "stdout",
     "output_type": "stream",
     "text": [
      "[10 of Spades, 5 of Spades, 6 of Clubs, 6 of Diamonds, 9 of Hearts, 9 of Diamonds, 10 of Diamonds, 9 of Spades, 4 of Hearts, 4 of Clubs, 8 of Hearts, 6 of Spades, 4 of Spades, 7 of Diamonds, 4 of Diamonds, 6 of Hearts, J of Spades, 7 of Spades, 7 of Hearts, K of Diamonds, K of Hearts, A of Diamonds, Q of Hearts, 2 of Spades, K of Spades]\n",
      "[J of Diamonds, 5 of Clubs, 8 of Diamonds, 3 of Diamonds, A of Hearts, Q of Diamonds, 3 of Hearts, 3 of Clubs, A of Spades, Q of Clubs, 10 of Hearts, Q of Spades, 8 of Clubs, 10 of Clubs, 5 of Hearts, 5 of Diamonds, A of Clubs, K of Clubs, 7 of Clubs, 9 of Clubs, 2 of Hearts, 2 of Clubs, 8 of Spades, J of Hearts, 3 of Spades, J of Clubs, 2 of Diamonds]\n"
     ]
    }
   ],
   "source": [
    "print(game.a_hand.cards)\n",
    "print(game.b_hand.cards)"
   ]
  },
  {
   "cell_type": "code",
   "execution_count": null,
   "metadata": {
    "collapsed": false
   },
   "outputs": [],
   "source": []
  },
  {
   "cell_type": "code",
   "execution_count": null,
   "metadata": {
    "collapsed": true
   },
   "outputs": [],
   "source": []
  }
 ],
 "metadata": {
  "kernelspec": {
   "display_name": "Python 3",
   "language": "python",
   "name": "python3"
  },
  "language_info": {
   "codemirror_mode": {
    "name": "ipython",
    "version": 3
   },
   "file_extension": ".py",
   "mimetype": "text/x-python",
   "name": "python",
   "nbconvert_exporter": "python",
   "pygments_lexer": "ipython3",
   "version": "3.4.2"
  }
 },
 "nbformat": 4,
 "nbformat_minor": 0
}
